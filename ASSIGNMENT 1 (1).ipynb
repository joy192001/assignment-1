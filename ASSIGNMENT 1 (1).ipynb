{
 "cells": [
  {
   "cell_type": "markdown",
   "id": "b90e3ff3-12b4-4479-b4ba-d6375cb584e9",
   "metadata": {},
   "source": [
    "Q1. :-"
   ]
  },
  {
   "cell_type": "markdown",
   "id": "90811033-11fe-4f01-a8bb-94b7777ba995",
   "metadata": {},
   "source": [
    "1.string : -"
   ]
  },
  {
   "cell_type": "code",
   "execution_count": 3,
   "id": "f0b5919c-e82f-4c4e-9f93-7e773d3de45d",
   "metadata": {},
   "outputs": [
    {
     "data": {
      "text/plain": [
       "'joy'"
      ]
     },
     "execution_count": 3,
     "metadata": {},
     "output_type": "execute_result"
    }
   ],
   "source": [
    "s = \"joy\"\n",
    "s"
   ]
  },
  {
   "cell_type": "markdown",
   "id": "b4b7f010-615d-4a9c-956b-a6c3e9329b9f",
   "metadata": {},
   "source": [
    "2.list :-"
   ]
  },
  {
   "cell_type": "code",
   "execution_count": 4,
   "id": "99108816-ba1c-422b-97ba-88edabed1165",
   "metadata": {},
   "outputs": [
    {
     "data": {
      "text/plain": [
       "[76, 89, 65, 54, 12.98, True, 'ram']"
      ]
     },
     "execution_count": 4,
     "metadata": {},
     "output_type": "execute_result"
    }
   ],
   "source": [
    "l = [76,89,65,54,12.98,True,\"ram\"]\n",
    "l"
   ]
  },
  {
   "cell_type": "markdown",
   "id": "13c1d94f-8eeb-4bd1-b2f0-880587efb477",
   "metadata": {
    "tags": []
   },
   "source": [
    "3.float :-"
   ]
  },
  {
   "cell_type": "code",
   "execution_count": 5,
   "id": "c6e4f07f-53ee-49d5-b0c4-264f4459f3d3",
   "metadata": {},
   "outputs": [
    {
     "data": {
      "text/plain": [
       "98.65"
      ]
     },
     "execution_count": 5,
     "metadata": {},
     "output_type": "execute_result"
    }
   ],
   "source": [
    "f = 98.65\n",
    "f"
   ]
  },
  {
   "cell_type": "markdown",
   "id": "49469b83-9a73-4444-adc5-75c78900b246",
   "metadata": {},
   "source": [
    "4.tuple :-"
   ]
  },
  {
   "cell_type": "code",
   "execution_count": 1,
   "id": "0d57408e-66a8-4495-abf7-8d393efe0229",
   "metadata": {},
   "outputs": [],
   "source": [
    "t = (9,6,7,8, \"joy\",\"pwskills\" , True , 99.98 , )"
   ]
  },
  {
   "cell_type": "code",
   "execution_count": null,
   "id": "44b1823c-4e6d-485f-b83e-d8be9dd28b63",
   "metadata": {},
   "outputs": [],
   "source": [
    "Q2. :-"
   ]
  },
  {
   "cell_type": "code",
   "execution_count": 7,
   "id": "752af695-c628-4bdb-adba-17317ca9bd18",
   "metadata": {},
   "outputs": [
    {
     "data": {
      "text/plain": [
       "str"
      ]
     },
     "execution_count": 7,
     "metadata": {},
     "output_type": "execute_result"
    }
   ],
   "source": [
    "var1 = ' '\n",
    "type(var1)"
   ]
  },
  {
   "cell_type": "code",
   "execution_count": 8,
   "id": "4996bd73-0475-4e1d-bec3-1cd1aaebc135",
   "metadata": {},
   "outputs": [
    {
     "data": {
      "text/plain": [
       "str"
      ]
     },
     "execution_count": 8,
     "metadata": {},
     "output_type": "execute_result"
    }
   ],
   "source": [
    "var2 = '[ DS , ML , Python]'\n",
    "type(var2)"
   ]
  },
  {
   "cell_type": "code",
   "execution_count": 10,
   "id": "87da9a2f-d294-43d4-a8e0-a25e1e6895c5",
   "metadata": {},
   "outputs": [
    {
     "data": {
      "text/plain": [
       "list"
      ]
     },
     "execution_count": 10,
     "metadata": {},
     "output_type": "execute_result"
    }
   ],
   "source": [
    "var3 = [ 'DS' , 'ML' , 'Python' ]\n",
    "type(var3)"
   ]
  },
  {
   "cell_type": "markdown",
   "id": "022a9e42-53fb-4feb-90aa-7dcbb72b2dcc",
   "metadata": {},
   "source": [
    "var4 = 1.\n",
    "type(var4)"
   ]
  },
  {
   "cell_type": "code",
   "execution_count": null,
   "id": "ae27b9c6-21ba-4126-a33e-0f5445d2cf5b",
   "metadata": {},
   "outputs": [],
   "source": [
    "Q3. :- "
   ]
  },
  {
   "cell_type": "markdown",
   "id": "42a1431f-8918-45a0-b8d5-e43664564502",
   "metadata": {},
   "source": [
    "1.(/) DIVISION OPERATOR :- used to perform division between two operands ."
   ]
  },
  {
   "cell_type": "markdown",
   "id": "9fc975c6-ec5a-46c5-9369-7afe5261c7ee",
   "metadata": {},
   "source": [
    "eg :-    "
   ]
  },
  {
   "cell_type": "code",
   "execution_count": 25,
   "id": "e5456a96-9e19-4dbe-aec5-759bcad54c05",
   "metadata": {},
   "outputs": [
    {
     "data": {
      "text/plain": [
       "3.0"
      ]
     },
     "execution_count": 25,
     "metadata": {},
     "output_type": "execute_result"
    }
   ],
   "source": [
    "a = 9 \n",
    "b = 3\n",
    "a/b"
   ]
  },
  {
   "cell_type": "markdown",
   "id": "e37295fc-2594-44fd-bbf4-5b3a6123347e",
   "metadata": {},
   "source": [
    "2.(%) MODULUS OPERATOR :- used to find out remainder , after division is performed between two operands."
   ]
  },
  {
   "cell_type": "markdown",
   "id": "a818c925-0956-47ea-8137-5d5e509abada",
   "metadata": {},
   "source": [
    "eg :-"
   ]
  },
  {
   "cell_type": "code",
   "execution_count": 24,
   "id": "87f2cbc1-fa97-431c-b927-dc27b7030cc9",
   "metadata": {},
   "outputs": [
    {
     "data": {
      "text/plain": [
       "2"
      ]
     },
     "execution_count": 24,
     "metadata": {},
     "output_type": "execute_result"
    }
   ],
   "source": [
    "c = 8\n",
    "d = 3\n",
    "c % d"
   ]
  },
  {
   "cell_type": "markdown",
   "id": "7237ca5b-6760-423c-ad93-da0c410cbf3d",
   "metadata": {},
   "source": [
    "3.(//) FLOOR OPERATOR :- used to find out the quotient , after divison is performed between two operands ."
   ]
  },
  {
   "cell_type": "markdown",
   "id": "96a60c64-6098-4267-a7f7-73fa8d15cfc6",
   "metadata": {},
   "source": [
    "eg :-"
   ]
  },
  {
   "cell_type": "code",
   "execution_count": 27,
   "id": "91345571-9f8d-4811-8d70-45836ded19a4",
   "metadata": {},
   "outputs": [
    {
     "data": {
      "text/plain": [
       "3"
      ]
     },
     "execution_count": 27,
     "metadata": {},
     "output_type": "execute_result"
    }
   ],
   "source": [
    "e = 18\n",
    "f = 6\n",
    "e // f"
   ]
  },
  {
   "cell_type": "markdown",
   "id": "e1fa6171-7973-4402-808d-e4e4e39020b3",
   "metadata": {},
   "source": [
    "4.(**) EXPONENT OPERATOR :- used to find power of a given number."
   ]
  },
  {
   "cell_type": "markdown",
   "id": "af3b324b-194d-4bf6-bc9c-e095b7b5522b",
   "metadata": {},
   "source": [
    "eg :-"
   ]
  },
  {
   "cell_type": "code",
   "execution_count": 35,
   "id": "4a7650cc-6eda-4eef-8f5c-9c2bf5ed6b1b",
   "metadata": {},
   "outputs": [
    {
     "data": {
      "text/plain": [
       "9"
      ]
     },
     "execution_count": 35,
     "metadata": {},
     "output_type": "execute_result"
    }
   ],
   "source": [
    "3**2"
   ]
  },
  {
   "cell_type": "code",
   "execution_count": 36,
   "id": "fdf61efd-7edf-454a-a073-9a12ff2183b6",
   "metadata": {},
   "outputs": [
    {
     "data": {
      "text/plain": [
       "125"
      ]
     },
     "execution_count": 36,
     "metadata": {},
     "output_type": "execute_result"
    }
   ],
   "source": [
    "5**3"
   ]
  },
  {
   "cell_type": "markdown",
   "id": "fe0f6677-abe0-4a35-8286-3df01a516959",
   "metadata": {},
   "source": [
    "Q4 : -"
   ]
  },
  {
   "cell_type": "code",
   "execution_count": 39,
   "id": "c036c11d-a7f7-4533-9eab-dea94f9a09e8",
   "metadata": {},
   "outputs": [
    {
     "name": "stdout",
     "output_type": "stream",
     "text": [
      "<class 'int'>\n",
      "23\n",
      "<class 'int'>\n",
      "45\n",
      "<class 'str'>\n",
      "ram\n",
      "<class 'float'>\n",
      "98.43\n",
      "<class 'bool'>\n",
      "True\n",
      "<class 'int'>\n",
      "56\n",
      "<class 'int'>\n",
      "87\n",
      "<class 'str'>\n",
      "shyam\n",
      "<class 'float'>\n",
      "78.9876\n",
      "<class 'bool'>\n",
      "False\n"
     ]
    }
   ],
   "source": [
    "l = [23 , 45 , \"ram\" , 98.43 , True , 56 , 87 , 'shyam' , 78.9876 , False]\n",
    "for i in l :\n",
    "    print(type(i))\n",
    "    print(i)"
   ]
  },
  {
   "cell_type": "markdown",
   "id": "042f1ea5-0e43-431a-9e10-88a837caa282",
   "metadata": {},
   "source": [
    "Q5 :-"
   ]
  },
  {
   "cell_type": "code",
   "execution_count": 3,
   "id": "bbdfd7f2-af79-477d-b249-848f94ccfce8",
   "metadata": {},
   "outputs": [
    {
     "name": "stdin",
     "output_type": "stream",
     "text": [
      " 12\n",
      " 4\n"
     ]
    },
    {
     "name": "stdout",
     "output_type": "stream",
     "text": [
      "3.0\n"
     ]
    }
   ],
   "source": [
    "A = int(input())\n",
    "B = int(input())\n",
    "while A % B==0 :\n",
    "    RESULT = A / B\n",
    "    print(RESULT)\n",
    "    break\n",
    "    \n",
    "    \n",
    "    \n",
    "  "
   ]
  },
  {
   "cell_type": "markdown",
   "id": "1dc47737-b288-4e79-a58a-fd1349d872fa",
   "metadata": {},
   "source": [
    "Q6 :-"
   ]
  },
  {
   "cell_type": "code",
   "execution_count": 9,
   "id": "f015b136-66b9-4b37-af59-06d9de12ce16",
   "metadata": {},
   "outputs": [
    {
     "name": "stdout",
     "output_type": "stream",
     "text": [
      "1\n",
      "not didvisible by 3\n",
      "2\n",
      "not didvisible by 3\n",
      "3\n",
      "divisible by 3\n",
      "4\n",
      "not didvisible by 3\n",
      "5\n",
      "not didvisible by 3\n",
      "6\n",
      "divisible by 3\n",
      "7\n",
      "not didvisible by 3\n",
      "8\n",
      "not didvisible by 3\n",
      "9\n",
      "divisible by 3\n",
      "10\n",
      "not didvisible by 3\n",
      "11\n",
      "not didvisible by 3\n",
      "12\n",
      "divisible by 3\n",
      "13\n",
      "not didvisible by 3\n",
      "14\n",
      "not didvisible by 3\n",
      "15\n",
      "divisible by 3\n",
      "16\n",
      "not didvisible by 3\n",
      "17\n",
      "not didvisible by 3\n",
      "18\n",
      "divisible by 3\n",
      "19\n",
      "not didvisible by 3\n",
      "20\n",
      "not didvisible by 3\n",
      "21\n",
      "divisible by 3\n",
      "22\n",
      "not didvisible by 3\n",
      "23\n",
      "not didvisible by 3\n",
      "24\n",
      "divisible by 3\n",
      "25\n",
      "not didvisible by 3\n"
     ]
    }
   ],
   "source": [
    "l = [1,2,3,4,5,6,7,8,9,10,11,12,13,14,15,16,17,18,19,20,21,22,23,24,25]\n",
    "for i in l :\n",
    "    \n",
    "    if (i%3==0) :\n",
    "        print(i)\n",
    "        print('divisible by 3')\n",
    "    else :\n",
    "        print(i)\n",
    "        print('not didvisible by 3')\n",
    "    "
   ]
  },
  {
   "cell_type": "markdown",
   "id": "964a8309-1a72-4f30-9421-42b7b877e201",
   "metadata": {},
   "source": [
    "Q7 :-"
   ]
  },
  {
   "cell_type": "markdown",
   "id": "3d05a2ad-f546-49d5-9ffc-da3511ff8639",
   "metadata": {},
   "source": [
    "IMMUTABLE DATA TYPES :-\n",
    "-----------------------\n",
    "The immutable data types are those data types in which we cannot modify elements.\n",
    "eg : - string , int , float."
   ]
  },
  {
   "cell_type": "code",
   "execution_count": 11,
   "id": "cc7e984c-60e5-4a43-9330-3fa727a706e7",
   "metadata": {},
   "outputs": [
    {
     "ename": "TypeError",
     "evalue": "'str' object does not support item assignment",
     "output_type": "error",
     "traceback": [
      "\u001b[0;31m---------------------------------------------------------------------------\u001b[0m",
      "\u001b[0;31mTypeError\u001b[0m                                 Traceback (most recent call last)",
      "Cell \u001b[0;32mIn[11], line 2\u001b[0m\n\u001b[1;32m      1\u001b[0m S \u001b[38;5;241m=\u001b[39m \u001b[38;5;124m'\u001b[39m\u001b[38;5;124mRAM\u001b[39m\u001b[38;5;124m'\u001b[39m\n\u001b[0;32m----> 2\u001b[0m \u001b[43mS\u001b[49m\u001b[43m[\u001b[49m\u001b[38;5;241;43m1\u001b[39;49m\u001b[43m]\u001b[49m \u001b[38;5;241m=\u001b[39m \u001b[38;5;124m'\u001b[39m\u001b[38;5;124mO\u001b[39m\u001b[38;5;124m'\u001b[39m\n",
      "\u001b[0;31mTypeError\u001b[0m: 'str' object does not support item assignment"
     ]
    }
   ],
   "source": [
    "S = 'RAM'\n",
    "S[1] = 'O'"
   ]
  },
  {
   "cell_type": "markdown",
   "id": "a7759537-48af-4080-82ad-df4769ce89bf",
   "metadata": {},
   "source": [
    "MUTABLE DATA TYPES :-\n",
    "-----------------------\n",
    "The mutable data types are those data types in which we can modify elements.\n",
    "eg : - list ."
   ]
  },
  {
   "cell_type": "code",
   "execution_count": 12,
   "id": "8c2d9b42-c3a1-44d9-8de1-9bdcb6d01cbb",
   "metadata": {},
   "outputs": [
    {
     "data": {
      "text/plain": [
       "[2, 3, 'ram', 5, 6, 7, 8, 9]"
      ]
     },
     "execution_count": 12,
     "metadata": {},
     "output_type": "execute_result"
    }
   ],
   "source": [
    "l = [2, 3, 'ram', 5, 6, 7, 8, 9]\n",
    "l\n"
   ]
  },
  {
   "cell_type": "code",
   "execution_count": 14,
   "id": "9c72b1da-6081-44ca-ac33-5a388d1d21d6",
   "metadata": {},
   "outputs": [
    {
     "data": {
      "text/plain": [
       "[2, 3, 'ram', 98, 6, 7, 8, 9]"
      ]
     },
     "execution_count": 14,
     "metadata": {},
     "output_type": "execute_result"
    }
   ],
   "source": [
    "l[3] = 98 \n",
    "l"
   ]
  },
  {
   "cell_type": "code",
   "execution_count": null,
   "id": "2455e964-1a1e-4758-a14d-273d68d244df",
   "metadata": {},
   "outputs": [],
   "source": []
  },
  {
   "cell_type": "code",
   "execution_count": null,
   "id": "34f1df66-6432-46f7-97fe-5b40ac74d4a6",
   "metadata": {},
   "outputs": [],
   "source": []
  }
 ],
 "metadata": {
  "kernelspec": {
   "display_name": "Python 3 (ipykernel)",
   "language": "python",
   "name": "python3"
  },
  "language_info": {
   "codemirror_mode": {
    "name": "ipython",
    "version": 3
   },
   "file_extension": ".py",
   "mimetype": "text/x-python",
   "name": "python",
   "nbconvert_exporter": "python",
   "pygments_lexer": "ipython3",
   "version": "3.10.8"
  }
 },
 "nbformat": 4,
 "nbformat_minor": 5
}
